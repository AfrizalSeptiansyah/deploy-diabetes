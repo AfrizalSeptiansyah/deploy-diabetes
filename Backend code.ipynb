{
 "cells": [
  {
   "cell_type": "code",
   "execution_count": 1,
   "id": "d3fc4594",
   "metadata": {},
   "outputs": [
    {
     "name": "stdout",
     "output_type": "stream",
     "text": [
      "Overwriting app.py\n"
     ]
    }
   ],
   "source": [
    "%%writefile app.py\n",
    "from flask import Flask, render_template, request, redirect\n",
    "import pandas as pd \n",
    "from jcopml.utils import load_model\n",
    "\n",
    "app = Flask(__name__)\n",
    "model = load_model('model/diabetes.pkl')\n",
    "\n",
    "@app.route('/', methods=['GET','POST'])\n",
    "def index():\n",
    "    if request.method == 'GET':\n",
    "        return render_template('index.html')\n",
    "    else:\n",
    "        data = request.form.to_dict()\n",
    "        X_test = pd.DataFrame([data])\n",
    "        hasil = model.predict(X_test)\n",
    "        return render_template('hasil.html', FinalData=hasil)\n",
    "\n",
    "if __name__ == '__main__':\n",
    "    app.run(host='127.0.0.1', port='5000', debug=True)"
   ]
  },
  {
   "cell_type": "code",
   "execution_count": null,
   "id": "a8b2cf13",
   "metadata": {},
   "outputs": [],
   "source": []
  }
 ],
 "metadata": {
  "kernelspec": {
   "display_name": "Python [conda env:deploy]",
   "language": "python",
   "name": "conda-env-deploy-py"
  },
  "language_info": {
   "codemirror_mode": {
    "name": "ipython",
    "version": 3
   },
   "file_extension": ".py",
   "mimetype": "text/x-python",
   "name": "python",
   "nbconvert_exporter": "python",
   "pygments_lexer": "ipython3",
   "version": "3.7.6"
  }
 },
 "nbformat": 4,
 "nbformat_minor": 5
}
